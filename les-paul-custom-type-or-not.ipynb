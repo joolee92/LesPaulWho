{
 "cells": [
  {
   "cell_type": "code",
   "execution_count": null,
   "metadata": {
    "execution": {
     "iopub.execute_input": "2025-08-31T14:55:07.885091Z",
     "iopub.status.busy": "2025-08-31T14:55:07.884282Z",
     "iopub.status.idle": "2025-08-31T14:55:27.110167Z",
     "shell.execute_reply": "2025-08-31T14:55:27.109377Z",
     "shell.execute_reply.started": "2025-08-31T14:55:07.885063Z"
    },
    "trusted": true
   },
   "outputs": [],
   "source": [
    "# Setup\n",
    "import os\n",
    "from fastcore.all import *\n",
    "from fastai.vision.all import *"
   ]
  },
  {
   "cell_type": "code",
   "execution_count": null,
   "metadata": {
    "execution": {
     "iopub.execute_input": "2025-08-31T14:55:43.252334Z",
     "iopub.status.busy": "2025-08-31T14:55:43.252023Z",
     "iopub.status.idle": "2025-08-31T14:55:43.256910Z",
     "shell.execute_reply": "2025-08-31T14:55:43.255845Z",
     "shell.execute_reply.started": "2025-08-31T14:55:43.252312Z"
    },
    "trusted": true
   },
   "outputs": [],
   "source": [
    "# Initialize dataset\n",
    "path = ('/Users/joo/Developer/jupyternotebooks/LesPaulCustomIdentifier/datasets/guitars/lespaul')"
   ]
  },
  {
   "cell_type": "code",
   "execution_count": null,
   "metadata": {
    "execution": {
     "iopub.execute_input": "2025-08-31T14:55:44.533247Z",
     "iopub.status.busy": "2025-08-31T14:55:44.532955Z",
     "iopub.status.idle": "2025-08-31T14:55:44.876232Z",
     "shell.execute_reply": "2025-08-31T14:55:44.875313Z",
     "shell.execute_reply.started": "2025-08-31T14:55:44.533230Z"
    },
    "trusted": true
   },
   "outputs": [],
   "source": [
    "# Verify dataset\n",
    "failed = verify_images(get_image_files(path))\n",
    "failed.map(Path.unlink)\n",
    "len(failed)"
   ]
  },
  {
   "cell_type": "code",
   "execution_count": null,
   "metadata": {},
   "outputs": [],
   "source": [
    "# Create DataBlock out of data\n",
    "guitars = DataBlock(\n",
    "    blocks=(ImageBlock, CategoryBlock), \n",
    "    get_items=get_image_files, \n",
    "    splitter=RandomSplitter(valid_pct=0.2, seed=42),\n",
    "    get_y=parent_label,\n",
    "    item_tfms=Resize(128))"
   ]
  },
  {
   "cell_type": "code",
   "execution_count": null,
   "metadata": {},
   "outputs": [],
   "source": [
    "# Augment data for training\n",
    "guitars = guitars.new(\n",
    "    item_tfms=RandomResizedCrop(224, min_scale=0.5),\n",
    "    batch_tfms=aug_transforms())\n",
    "dls = guitars.dataloaders(path)\n",
    "dls.show_batch()"
   ]
  },
  {
   "cell_type": "code",
   "execution_count": null,
   "metadata": {
    "execution": {
     "iopub.execute_input": "2025-08-31T15:03:24.477376Z",
     "iopub.status.busy": "2025-08-31T15:03:24.477068Z",
     "iopub.status.idle": "2025-08-31T15:03:33.555173Z",
     "shell.execute_reply": "2025-08-31T15:03:33.554087Z",
     "shell.execute_reply.started": "2025-08-31T15:03:24.477354Z"
    },
    "trusted": true
   },
   "outputs": [],
   "source": [
    "# Train model\n",
    "learn = vision_learner(dls, resnet18, metrics=error_rate)\n",
    "learn.fine_tune(10)"
   ]
  },
  {
   "cell_type": "code",
   "execution_count": null,
   "metadata": {},
   "outputs": [],
   "source": [
    "interp = ClassificationInterpretation.from_learner(learn)\n",
    "interp.plot_confusion_matrix()"
   ]
  },
  {
   "cell_type": "code",
   "execution_count": null,
   "metadata": {},
   "outputs": [],
   "source": [
    "interp.plot_top_losses(5, nrows=1)"
   ]
  },
  {
   "cell_type": "code",
   "execution_count": null,
   "metadata": {},
   "outputs": [],
   "source": [
    "# Export trained model\n",
    "learn.export('model.pkl')"
   ]
  },
  {
   "cell_type": "code",
   "execution_count": null,
   "metadata": {
    "execution": {
     "iopub.execute_input": "2025-08-31T15:09:43.251845Z",
     "iopub.status.busy": "2025-08-31T15:09:43.251290Z",
     "iopub.status.idle": "2025-08-31T15:09:43.327664Z",
     "shell.execute_reply": "2025-08-31T15:09:43.326958Z",
     "shell.execute_reply.started": "2025-08-31T15:09:43.251816Z"
    },
    "trusted": true
   },
   "outputs": [],
   "source": [
    "# Test model\n",
    "custom = PILImage.create('/Users/joo/Developer/jupyternotebooks/LesPaulCustomIdentifier/datasets/guitars/tests/example.jpeg')\n",
    "custom.show()\n",
    "is_custom,_,probs = learn.predict(custom)\n",
    "print(f\"This is a Les Paul {str(is_custom).capitalize()}.\")\n",
    "print(f\"Probability it's a Les Paul Custom: {probs[0]:.4f}\")"
   ]
  }
 ],
 "metadata": {
  "kaggle": {
   "accelerator": "none",
   "dataSources": [
    {
     "datasetId": 8172481,
     "sourceId": 12923065,
     "sourceType": "datasetVersion"
    },
    {
     "datasetId": 8177437,
     "sourceId": 12923187,
     "sourceType": "datasetVersion"
    }
   ],
   "dockerImageVersionId": 31089,
   "isGpuEnabled": false,
   "isInternetEnabled": true,
   "language": "python",
   "sourceType": "notebook"
  },
  "kernelspec": {
   "display_name": "fastai",
   "language": "python",
   "name": "python3"
  },
  "language_info": {
   "codemirror_mode": {
    "name": "ipython",
    "version": 3
   },
   "file_extension": ".py",
   "mimetype": "text/x-python",
   "name": "python",
   "nbconvert_exporter": "python",
   "pygments_lexer": "ipython3",
   "version": "3.12.11"
  }
 },
 "nbformat": 4,
 "nbformat_minor": 4
}
